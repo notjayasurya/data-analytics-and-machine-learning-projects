{
 "cells": [
  {
   "cell_type": "code",
   "execution_count": 34,
   "metadata": {},
   "outputs": [],
   "source": [
    "import numpy as np\n",
    "import pandas as pd\n",
    "import seaborn as sns\n",
    "import matplotlib.pyplot as plt\n",
    "%matplotlib inline"
   ]
  },
  {
   "cell_type": "code",
   "execution_count": 35,
   "metadata": {},
   "outputs": [],
   "source": [
    "#Loading the dataset\n",
    "bc=pd.read_csv(\"C:/DSML INTERN/data/Bitcoin.csv\")"
   ]
  },
  {
   "cell_type": "code",
   "execution_count": 6,
   "metadata": {},
   "outputs": [
    {
     "data": {
      "text/html": [
       "<div>\n",
       "<style scoped>\n",
       "    .dataframe tbody tr th:only-of-type {\n",
       "        vertical-align: middle;\n",
       "    }\n",
       "\n",
       "    .dataframe tbody tr th {\n",
       "        vertical-align: top;\n",
       "    }\n",
       "\n",
       "    .dataframe thead th {\n",
       "        text-align: right;\n",
       "    }\n",
       "</style>\n",
       "<table border=\"1\" class=\"dataframe\">\n",
       "  <thead>\n",
       "    <tr style=\"text-align: right;\">\n",
       "      <th></th>\n",
       "      <th>Timestamp</th>\n",
       "      <th>Open</th>\n",
       "      <th>High</th>\n",
       "      <th>Low</th>\n",
       "      <th>Close</th>\n",
       "      <th>Volume_(BTC)</th>\n",
       "      <th>Volume_(Currency)</th>\n",
       "      <th>Weighted_Price</th>\n",
       "    </tr>\n",
       "  </thead>\n",
       "  <tbody>\n",
       "    <tr>\n",
       "      <th>0</th>\n",
       "      <td>1417411980</td>\n",
       "      <td>300.00</td>\n",
       "      <td>300.00</td>\n",
       "      <td>300.00</td>\n",
       "      <td>300.00</td>\n",
       "      <td>0.010000</td>\n",
       "      <td>3.000000</td>\n",
       "      <td>300.000000</td>\n",
       "    </tr>\n",
       "    <tr>\n",
       "      <th>1</th>\n",
       "      <td>1417412040</td>\n",
       "      <td>NaN</td>\n",
       "      <td>NaN</td>\n",
       "      <td>NaN</td>\n",
       "      <td>NaN</td>\n",
       "      <td>NaN</td>\n",
       "      <td>NaN</td>\n",
       "      <td>NaN</td>\n",
       "    </tr>\n",
       "    <tr>\n",
       "      <th>2</th>\n",
       "      <td>1417412100</td>\n",
       "      <td>NaN</td>\n",
       "      <td>NaN</td>\n",
       "      <td>NaN</td>\n",
       "      <td>NaN</td>\n",
       "      <td>NaN</td>\n",
       "      <td>NaN</td>\n",
       "      <td>NaN</td>\n",
       "    </tr>\n",
       "    <tr>\n",
       "      <th>3</th>\n",
       "      <td>1417412160</td>\n",
       "      <td>NaN</td>\n",
       "      <td>NaN</td>\n",
       "      <td>NaN</td>\n",
       "      <td>NaN</td>\n",
       "      <td>NaN</td>\n",
       "      <td>NaN</td>\n",
       "      <td>NaN</td>\n",
       "    </tr>\n",
       "    <tr>\n",
       "      <th>4</th>\n",
       "      <td>1417412220</td>\n",
       "      <td>NaN</td>\n",
       "      <td>NaN</td>\n",
       "      <td>NaN</td>\n",
       "      <td>NaN</td>\n",
       "      <td>NaN</td>\n",
       "      <td>NaN</td>\n",
       "      <td>NaN</td>\n",
       "    </tr>\n",
       "    <tr>\n",
       "      <th>...</th>\n",
       "      <td>...</td>\n",
       "      <td>...</td>\n",
       "      <td>...</td>\n",
       "      <td>...</td>\n",
       "      <td>...</td>\n",
       "      <td>...</td>\n",
       "      <td>...</td>\n",
       "      <td>...</td>\n",
       "    </tr>\n",
       "    <tr>\n",
       "      <th>2099755</th>\n",
       "      <td>1546898520</td>\n",
       "      <td>4006.01</td>\n",
       "      <td>4006.57</td>\n",
       "      <td>4006.00</td>\n",
       "      <td>4006.01</td>\n",
       "      <td>3.382954</td>\n",
       "      <td>13553.433078</td>\n",
       "      <td>4006.390309</td>\n",
       "    </tr>\n",
       "    <tr>\n",
       "      <th>2099756</th>\n",
       "      <td>1546898580</td>\n",
       "      <td>4006.01</td>\n",
       "      <td>4006.57</td>\n",
       "      <td>4006.00</td>\n",
       "      <td>4006.01</td>\n",
       "      <td>0.902164</td>\n",
       "      <td>3614.083169</td>\n",
       "      <td>4006.017233</td>\n",
       "    </tr>\n",
       "    <tr>\n",
       "      <th>2099757</th>\n",
       "      <td>1546898640</td>\n",
       "      <td>4006.01</td>\n",
       "      <td>4006.01</td>\n",
       "      <td>4006.00</td>\n",
       "      <td>4006.01</td>\n",
       "      <td>1.192123</td>\n",
       "      <td>4775.647308</td>\n",
       "      <td>4006.003635</td>\n",
       "    </tr>\n",
       "    <tr>\n",
       "      <th>2099758</th>\n",
       "      <td>1546898700</td>\n",
       "      <td>4006.01</td>\n",
       "      <td>4006.01</td>\n",
       "      <td>4005.50</td>\n",
       "      <td>4005.50</td>\n",
       "      <td>2.699700</td>\n",
       "      <td>10814.241898</td>\n",
       "      <td>4005.719991</td>\n",
       "    </tr>\n",
       "    <tr>\n",
       "      <th>2099759</th>\n",
       "      <td>1546898760</td>\n",
       "      <td>4005.51</td>\n",
       "      <td>4006.01</td>\n",
       "      <td>4005.51</td>\n",
       "      <td>4005.99</td>\n",
       "      <td>1.752778</td>\n",
       "      <td>7021.183546</td>\n",
       "      <td>4005.745614</td>\n",
       "    </tr>\n",
       "  </tbody>\n",
       "</table>\n",
       "<p>2099760 rows × 8 columns</p>\n",
       "</div>"
      ],
      "text/plain": [
       "          Timestamp     Open     High      Low    Close  Volume_(BTC)  \\\n",
       "0        1417411980   300.00   300.00   300.00   300.00      0.010000   \n",
       "1        1417412040      NaN      NaN      NaN      NaN           NaN   \n",
       "2        1417412100      NaN      NaN      NaN      NaN           NaN   \n",
       "3        1417412160      NaN      NaN      NaN      NaN           NaN   \n",
       "4        1417412220      NaN      NaN      NaN      NaN           NaN   \n",
       "...             ...      ...      ...      ...      ...           ...   \n",
       "2099755  1546898520  4006.01  4006.57  4006.00  4006.01      3.382954   \n",
       "2099756  1546898580  4006.01  4006.57  4006.00  4006.01      0.902164   \n",
       "2099757  1546898640  4006.01  4006.01  4006.00  4006.01      1.192123   \n",
       "2099758  1546898700  4006.01  4006.01  4005.50  4005.50      2.699700   \n",
       "2099759  1546898760  4005.51  4006.01  4005.51  4005.99      1.752778   \n",
       "\n",
       "         Volume_(Currency)  Weighted_Price  \n",
       "0                 3.000000      300.000000  \n",
       "1                      NaN             NaN  \n",
       "2                      NaN             NaN  \n",
       "3                      NaN             NaN  \n",
       "4                      NaN             NaN  \n",
       "...                    ...             ...  \n",
       "2099755       13553.433078     4006.390309  \n",
       "2099756        3614.083169     4006.017233  \n",
       "2099757        4775.647308     4006.003635  \n",
       "2099758       10814.241898     4005.719991  \n",
       "2099759        7021.183546     4005.745614  \n",
       "\n",
       "[2099760 rows x 8 columns]"
      ]
     },
     "execution_count": 6,
     "metadata": {},
     "output_type": "execute_result"
    }
   ],
   "source": [
    "bc"
   ]
  },
  {
   "cell_type": "code",
   "execution_count": 7,
   "metadata": {},
   "outputs": [
    {
     "name": "stdout",
     "output_type": "stream",
     "text": [
      "<class 'pandas.core.frame.DataFrame'>\n",
      "RangeIndex: 2099760 entries, 0 to 2099759\n",
      "Data columns (total 8 columns):\n",
      " #   Column             Dtype  \n",
      "---  ------             -----  \n",
      " 0   Timestamp          int64  \n",
      " 1   Open               float64\n",
      " 2   High               float64\n",
      " 3   Low                float64\n",
      " 4   Close              float64\n",
      " 5   Volume_(BTC)       float64\n",
      " 6   Volume_(Currency)  float64\n",
      " 7   Weighted_Price     float64\n",
      "dtypes: float64(7), int64(1)\n",
      "memory usage: 128.2 MB\n"
     ]
    }
   ],
   "source": [
    "bc.info()"
   ]
  },
  {
   "cell_type": "code",
   "execution_count": 8,
   "metadata": {},
   "outputs": [
    {
     "data": {
      "text/plain": [
       "Index(['Timestamp', 'Open', 'High', 'Low', 'Close', 'Volume_(BTC)',\n",
       "       'Volume_(Currency)', 'Weighted_Price'],\n",
       "      dtype='object')"
      ]
     },
     "execution_count": 8,
     "metadata": {},
     "output_type": "execute_result"
    }
   ],
   "source": [
    "bc.columns"
   ]
  },
  {
   "cell_type": "code",
   "execution_count": 9,
   "metadata": {},
   "outputs": [
    {
     "data": {
      "text/plain": [
       "(2099760, 8)"
      ]
     },
     "execution_count": 9,
     "metadata": {},
     "output_type": "execute_result"
    }
   ],
   "source": [
    "bc.shape"
   ]
  },
  {
   "cell_type": "code",
   "execution_count": 10,
   "metadata": {},
   "outputs": [
    {
     "data": {
      "text/plain": [
       "Timestamp                 0\n",
       "Open                 109069\n",
       "High                 109069\n",
       "Low                  109069\n",
       "Close                109069\n",
       "Volume_(BTC)         109069\n",
       "Volume_(Currency)    109069\n",
       "Weighted_Price       109069\n",
       "dtype: int64"
      ]
     },
     "execution_count": 10,
     "metadata": {},
     "output_type": "execute_result"
    }
   ],
   "source": [
    "#Checking for missing values\n",
    "bc.isnull().sum()"
   ]
  },
  {
   "cell_type": "code",
   "execution_count": 11,
   "metadata": {},
   "outputs": [],
   "source": [
    "#Removing all the rows with null values\n",
    "bc.dropna(inplace=True)"
   ]
  },
  {
   "cell_type": "code",
   "execution_count": 12,
   "metadata": {},
   "outputs": [
    {
     "data": {
      "text/plain": [
       "Timestamp            0\n",
       "Open                 0\n",
       "High                 0\n",
       "Low                  0\n",
       "Close                0\n",
       "Volume_(BTC)         0\n",
       "Volume_(Currency)    0\n",
       "Weighted_Price       0\n",
       "dtype: int64"
      ]
     },
     "execution_count": 12,
     "metadata": {},
     "output_type": "execute_result"
    }
   ],
   "source": [
    "bc.isnull().sum()"
   ]
  },
  {
   "cell_type": "code",
   "execution_count": 13,
   "metadata": {},
   "outputs": [
    {
     "data": {
      "text/html": [
       "<div>\n",
       "<style scoped>\n",
       "    .dataframe tbody tr th:only-of-type {\n",
       "        vertical-align: middle;\n",
       "    }\n",
       "\n",
       "    .dataframe tbody tr th {\n",
       "        vertical-align: top;\n",
       "    }\n",
       "\n",
       "    .dataframe thead th {\n",
       "        text-align: right;\n",
       "    }\n",
       "</style>\n",
       "<table border=\"1\" class=\"dataframe\">\n",
       "  <thead>\n",
       "    <tr style=\"text-align: right;\">\n",
       "      <th></th>\n",
       "      <th>count</th>\n",
       "      <th>mean</th>\n",
       "      <th>std</th>\n",
       "      <th>min</th>\n",
       "      <th>25%</th>\n",
       "      <th>50%</th>\n",
       "      <th>75%</th>\n",
       "      <th>max</th>\n",
       "    </tr>\n",
       "  </thead>\n",
       "  <tbody>\n",
       "    <tr>\n",
       "      <th>Timestamp</th>\n",
       "      <td>1990691.0</td>\n",
       "      <td>1.485965e+09</td>\n",
       "      <td>3.579676e+07</td>\n",
       "      <td>1.417412e+09</td>\n",
       "      <td>1.455342e+09</td>\n",
       "      <td>1.486788e+09</td>\n",
       "      <td>1.516933e+09</td>\n",
       "      <td>1.546899e+09</td>\n",
       "    </tr>\n",
       "    <tr>\n",
       "      <th>Open</th>\n",
       "      <td>1990691.0</td>\n",
       "      <td>3.246403e+03</td>\n",
       "      <td>3.799154e+03</td>\n",
       "      <td>6.000000e-02</td>\n",
       "      <td>4.195800e+02</td>\n",
       "      <td>1.014580e+03</td>\n",
       "      <td>6.322630e+03</td>\n",
       "      <td>1.989199e+04</td>\n",
       "    </tr>\n",
       "    <tr>\n",
       "      <th>High</th>\n",
       "      <td>1990691.0</td>\n",
       "      <td>3.247829e+03</td>\n",
       "      <td>3.801394e+03</td>\n",
       "      <td>6.000000e-02</td>\n",
       "      <td>4.196400e+02</td>\n",
       "      <td>1.014890e+03</td>\n",
       "      <td>6.324010e+03</td>\n",
       "      <td>1.989199e+04</td>\n",
       "    </tr>\n",
       "    <tr>\n",
       "      <th>Low</th>\n",
       "      <td>1990691.0</td>\n",
       "      <td>3.244856e+03</td>\n",
       "      <td>3.796761e+03</td>\n",
       "      <td>6.000000e-02</td>\n",
       "      <td>4.195000e+02</td>\n",
       "      <td>1.014150e+03</td>\n",
       "      <td>6.321090e+03</td>\n",
       "      <td>1.989198e+04</td>\n",
       "    </tr>\n",
       "    <tr>\n",
       "      <th>Close</th>\n",
       "      <td>1990691.0</td>\n",
       "      <td>3.246403e+03</td>\n",
       "      <td>3.799150e+03</td>\n",
       "      <td>6.000000e-02</td>\n",
       "      <td>4.195700e+02</td>\n",
       "      <td>1.014530e+03</td>\n",
       "      <td>6.322670e+03</td>\n",
       "      <td>1.989199e+04</td>\n",
       "    </tr>\n",
       "    <tr>\n",
       "      <th>Volume_(BTC)</th>\n",
       "      <td>1990691.0</td>\n",
       "      <td>7.849139e+00</td>\n",
       "      <td>1.873222e+01</td>\n",
       "      <td>1.000000e-08</td>\n",
       "      <td>9.024000e-01</td>\n",
       "      <td>2.692900e+00</td>\n",
       "      <td>7.600965e+00</td>\n",
       "      <td>1.563267e+03</td>\n",
       "    </tr>\n",
       "    <tr>\n",
       "      <th>Volume_(Currency)</th>\n",
       "      <td>1990691.0</td>\n",
       "      <td>3.600157e+04</td>\n",
       "      <td>1.401879e+05</td>\n",
       "      <td>2.641700e-06</td>\n",
       "      <td>6.440031e+02</td>\n",
       "      <td>3.695642e+03</td>\n",
       "      <td>1.972392e+04</td>\n",
       "      <td>1.997076e+07</td>\n",
       "    </tr>\n",
       "    <tr>\n",
       "      <th>Weighted_Price</th>\n",
       "      <td>1990691.0</td>\n",
       "      <td>3.246341e+03</td>\n",
       "      <td>3.799078e+03</td>\n",
       "      <td>6.000000e-02</td>\n",
       "      <td>4.195645e+02</td>\n",
       "      <td>1.014512e+03</td>\n",
       "      <td>6.322550e+03</td>\n",
       "      <td>1.989199e+04</td>\n",
       "    </tr>\n",
       "  </tbody>\n",
       "</table>\n",
       "</div>"
      ],
      "text/plain": [
       "                       count          mean           std           min  \\\n",
       "Timestamp          1990691.0  1.485965e+09  3.579676e+07  1.417412e+09   \n",
       "Open               1990691.0  3.246403e+03  3.799154e+03  6.000000e-02   \n",
       "High               1990691.0  3.247829e+03  3.801394e+03  6.000000e-02   \n",
       "Low                1990691.0  3.244856e+03  3.796761e+03  6.000000e-02   \n",
       "Close              1990691.0  3.246403e+03  3.799150e+03  6.000000e-02   \n",
       "Volume_(BTC)       1990691.0  7.849139e+00  1.873222e+01  1.000000e-08   \n",
       "Volume_(Currency)  1990691.0  3.600157e+04  1.401879e+05  2.641700e-06   \n",
       "Weighted_Price     1990691.0  3.246341e+03  3.799078e+03  6.000000e-02   \n",
       "\n",
       "                            25%           50%           75%           max  \n",
       "Timestamp          1.455342e+09  1.486788e+09  1.516933e+09  1.546899e+09  \n",
       "Open               4.195800e+02  1.014580e+03  6.322630e+03  1.989199e+04  \n",
       "High               4.196400e+02  1.014890e+03  6.324010e+03  1.989199e+04  \n",
       "Low                4.195000e+02  1.014150e+03  6.321090e+03  1.989198e+04  \n",
       "Close              4.195700e+02  1.014530e+03  6.322670e+03  1.989199e+04  \n",
       "Volume_(BTC)       9.024000e-01  2.692900e+00  7.600965e+00  1.563267e+03  \n",
       "Volume_(Currency)  6.440031e+02  3.695642e+03  1.972392e+04  1.997076e+07  \n",
       "Weighted_Price     4.195645e+02  1.014512e+03  6.322550e+03  1.989199e+04  "
      ]
     },
     "execution_count": 13,
     "metadata": {},
     "output_type": "execute_result"
    }
   ],
   "source": [
    "bc.describe().T"
   ]
  },
  {
   "cell_type": "code",
   "execution_count": 14,
   "metadata": {},
   "outputs": [
    {
     "data": {
      "text/html": [
       "<div>\n",
       "<style scoped>\n",
       "    .dataframe tbody tr th:only-of-type {\n",
       "        vertical-align: middle;\n",
       "    }\n",
       "\n",
       "    .dataframe tbody tr th {\n",
       "        vertical-align: top;\n",
       "    }\n",
       "\n",
       "    .dataframe thead th {\n",
       "        text-align: right;\n",
       "    }\n",
       "</style>\n",
       "<table border=\"1\" class=\"dataframe\">\n",
       "  <thead>\n",
       "    <tr style=\"text-align: right;\">\n",
       "      <th></th>\n",
       "      <th>Timestamp</th>\n",
       "      <th>Open</th>\n",
       "      <th>High</th>\n",
       "      <th>Low</th>\n",
       "      <th>Close</th>\n",
       "      <th>Volume_(BTC)</th>\n",
       "      <th>Volume_(Currency)</th>\n",
       "      <th>Weighted_Price</th>\n",
       "    </tr>\n",
       "  </thead>\n",
       "  <tbody>\n",
       "    <tr>\n",
       "      <th>0</th>\n",
       "      <td>1417411980</td>\n",
       "      <td>300.00</td>\n",
       "      <td>300.00</td>\n",
       "      <td>300.00</td>\n",
       "      <td>300.00</td>\n",
       "      <td>0.010000</td>\n",
       "      <td>3.000000</td>\n",
       "      <td>300.000000</td>\n",
       "    </tr>\n",
       "    <tr>\n",
       "      <th>7</th>\n",
       "      <td>1417412400</td>\n",
       "      <td>300.00</td>\n",
       "      <td>300.00</td>\n",
       "      <td>300.00</td>\n",
       "      <td>300.00</td>\n",
       "      <td>0.010000</td>\n",
       "      <td>3.000000</td>\n",
       "      <td>300.000000</td>\n",
       "    </tr>\n",
       "    <tr>\n",
       "      <th>51</th>\n",
       "      <td>1417415040</td>\n",
       "      <td>370.00</td>\n",
       "      <td>370.00</td>\n",
       "      <td>370.00</td>\n",
       "      <td>370.00</td>\n",
       "      <td>0.010000</td>\n",
       "      <td>3.700000</td>\n",
       "      <td>370.000000</td>\n",
       "    </tr>\n",
       "    <tr>\n",
       "      <th>77</th>\n",
       "      <td>1417416600</td>\n",
       "      <td>370.00</td>\n",
       "      <td>370.00</td>\n",
       "      <td>370.00</td>\n",
       "      <td>370.00</td>\n",
       "      <td>0.026556</td>\n",
       "      <td>9.825550</td>\n",
       "      <td>370.000000</td>\n",
       "    </tr>\n",
       "    <tr>\n",
       "      <th>1436</th>\n",
       "      <td>1417498140</td>\n",
       "      <td>377.00</td>\n",
       "      <td>377.00</td>\n",
       "      <td>377.00</td>\n",
       "      <td>377.00</td>\n",
       "      <td>0.010000</td>\n",
       "      <td>3.770000</td>\n",
       "      <td>377.000000</td>\n",
       "    </tr>\n",
       "    <tr>\n",
       "      <th>...</th>\n",
       "      <td>...</td>\n",
       "      <td>...</td>\n",
       "      <td>...</td>\n",
       "      <td>...</td>\n",
       "      <td>...</td>\n",
       "      <td>...</td>\n",
       "      <td>...</td>\n",
       "      <td>...</td>\n",
       "    </tr>\n",
       "    <tr>\n",
       "      <th>2099755</th>\n",
       "      <td>1546898520</td>\n",
       "      <td>4006.01</td>\n",
       "      <td>4006.57</td>\n",
       "      <td>4006.00</td>\n",
       "      <td>4006.01</td>\n",
       "      <td>3.382954</td>\n",
       "      <td>13553.433078</td>\n",
       "      <td>4006.390309</td>\n",
       "    </tr>\n",
       "    <tr>\n",
       "      <th>2099756</th>\n",
       "      <td>1546898580</td>\n",
       "      <td>4006.01</td>\n",
       "      <td>4006.57</td>\n",
       "      <td>4006.00</td>\n",
       "      <td>4006.01</td>\n",
       "      <td>0.902164</td>\n",
       "      <td>3614.083169</td>\n",
       "      <td>4006.017233</td>\n",
       "    </tr>\n",
       "    <tr>\n",
       "      <th>2099757</th>\n",
       "      <td>1546898640</td>\n",
       "      <td>4006.01</td>\n",
       "      <td>4006.01</td>\n",
       "      <td>4006.00</td>\n",
       "      <td>4006.01</td>\n",
       "      <td>1.192123</td>\n",
       "      <td>4775.647308</td>\n",
       "      <td>4006.003635</td>\n",
       "    </tr>\n",
       "    <tr>\n",
       "      <th>2099758</th>\n",
       "      <td>1546898700</td>\n",
       "      <td>4006.01</td>\n",
       "      <td>4006.01</td>\n",
       "      <td>4005.50</td>\n",
       "      <td>4005.50</td>\n",
       "      <td>2.699700</td>\n",
       "      <td>10814.241898</td>\n",
       "      <td>4005.719991</td>\n",
       "    </tr>\n",
       "    <tr>\n",
       "      <th>2099759</th>\n",
       "      <td>1546898760</td>\n",
       "      <td>4005.51</td>\n",
       "      <td>4006.01</td>\n",
       "      <td>4005.51</td>\n",
       "      <td>4005.99</td>\n",
       "      <td>1.752778</td>\n",
       "      <td>7021.183546</td>\n",
       "      <td>4005.745614</td>\n",
       "    </tr>\n",
       "  </tbody>\n",
       "</table>\n",
       "<p>1990691 rows × 8 columns</p>\n",
       "</div>"
      ],
      "text/plain": [
       "          Timestamp     Open     High      Low    Close  Volume_(BTC)  \\\n",
       "0        1417411980   300.00   300.00   300.00   300.00      0.010000   \n",
       "7        1417412400   300.00   300.00   300.00   300.00      0.010000   \n",
       "51       1417415040   370.00   370.00   370.00   370.00      0.010000   \n",
       "77       1417416600   370.00   370.00   370.00   370.00      0.026556   \n",
       "1436     1417498140   377.00   377.00   377.00   377.00      0.010000   \n",
       "...             ...      ...      ...      ...      ...           ...   \n",
       "2099755  1546898520  4006.01  4006.57  4006.00  4006.01      3.382954   \n",
       "2099756  1546898580  4006.01  4006.57  4006.00  4006.01      0.902164   \n",
       "2099757  1546898640  4006.01  4006.01  4006.00  4006.01      1.192123   \n",
       "2099758  1546898700  4006.01  4006.01  4005.50  4005.50      2.699700   \n",
       "2099759  1546898760  4005.51  4006.01  4005.51  4005.99      1.752778   \n",
       "\n",
       "         Volume_(Currency)  Weighted_Price  \n",
       "0                 3.000000      300.000000  \n",
       "7                 3.000000      300.000000  \n",
       "51                3.700000      370.000000  \n",
       "77                9.825550      370.000000  \n",
       "1436              3.770000      377.000000  \n",
       "...                    ...             ...  \n",
       "2099755       13553.433078     4006.390309  \n",
       "2099756        3614.083169     4006.017233  \n",
       "2099757        4775.647308     4006.003635  \n",
       "2099758       10814.241898     4005.719991  \n",
       "2099759        7021.183546     4005.745614  \n",
       "\n",
       "[1990691 rows x 8 columns]"
      ]
     },
     "execution_count": 14,
     "metadata": {},
     "output_type": "execute_result"
    }
   ],
   "source": [
    "bc"
   ]
  },
  {
   "cell_type": "code",
   "execution_count": 16,
   "metadata": {},
   "outputs": [
    {
     "data": {
      "text/plain": [
       "Close                1.000000\n",
       "Weighted_Price       0.999999\n",
       "High                 0.999998\n",
       "Low                  0.999998\n",
       "Open                 0.999997\n",
       "Timestamp            0.739841\n",
       "Volume_(Currency)    0.399670\n",
       "Volume_(BTC)         0.147858\n",
       "Name: Close, dtype: float64"
      ]
     },
     "execution_count": 16,
     "metadata": {},
     "output_type": "execute_result"
    }
   ],
   "source": [
    "comatrix=bc.corr()\n",
    "comatrix[\"Close\"].sort_values(ascending = False)\n"
   ]
  },
  {
   "cell_type": "code",
   "execution_count": 17,
   "metadata": {},
   "outputs": [
    {
     "data": {
      "text/plain": [
       "Volume_(BTC)         1.000000\n",
       "Volume_(Currency)    0.710127\n",
       "High                 0.148487\n",
       "Open                 0.147888\n",
       "Close                0.147858\n",
       "Weighted_Price       0.147834\n",
       "Low                  0.147208\n",
       "Timestamp            0.083118\n",
       "Name: Volume_(BTC), dtype: float64"
      ]
     },
     "execution_count": 17,
     "metadata": {},
     "output_type": "execute_result"
    }
   ],
   "source": [
    "comatrix[\"Volume_(BTC)\"].sort_values(ascending = False)"
   ]
  },
  {
   "cell_type": "code",
   "execution_count": 18,
   "metadata": {},
   "outputs": [
    {
     "data": {
      "text/plain": [
       "Volume_(Currency)    1.000000\n",
       "Volume_(BTC)         0.710127\n",
       "High                 0.400542\n",
       "Open                 0.399696\n",
       "Close                0.399670\n",
       "Weighted_Price       0.399635\n",
       "Low                  0.398760\n",
       "Timestamp            0.216426\n",
       "Name: Volume_(Currency), dtype: float64"
      ]
     },
     "execution_count": 18,
     "metadata": {},
     "output_type": "execute_result"
    }
   ],
   "source": [
    "comatrix[\"Volume_(Currency)\"].sort_values(ascending = False)"
   ]
  },
  {
   "cell_type": "code",
   "execution_count": 19,
   "metadata": {},
   "outputs": [
    {
     "data": {
      "text/plain": [
       "Weighted_Price       1.000000\n",
       "Close                0.999999\n",
       "Open                 0.999999\n",
       "High                 0.999999\n",
       "Low                  0.999999\n",
       "Timestamp            0.739844\n",
       "Volume_(Currency)    0.399635\n",
       "Volume_(BTC)         0.147834\n",
       "Name: Weighted_Price, dtype: float64"
      ]
     },
     "execution_count": 19,
     "metadata": {},
     "output_type": "execute_result"
    }
   ],
   "source": [
    "comatrix[\"Weighted_Price\"].sort_values(ascending = False)"
   ]
  },
  {
   "cell_type": "code",
   "execution_count": 20,
   "metadata": {},
   "outputs": [
    {
     "data": {
      "text/plain": [
       "<matplotlib.axes._subplots.AxesSubplot at 0x22e46448dc8>"
      ]
     },
     "execution_count": 20,
     "metadata": {},
     "output_type": "execute_result"
    },
    {
     "data": {
      "image/png": "[encoded data removed]",
      "text/plain": [
       "<Figure size 1152x1152 with 2 Axes>"
      ]
     },
     "metadata": {
      "needs_background": "light"
     },
     "output_type": "display_data"
    }
   ],
   "source": [
    "plt.figure(figsize=(16, 16))\n",
    "sns.heatmap(bc.corr(), annot=True, cmap='rainbow', linewidths=1, linecolor='black')"
   ]
  },
  {
   "cell_type": "code",
   "execution_count": 36,
   "metadata": {},
   "outputs": [
    {
     "data": {
      "text/plain": [
       "<matplotlib.axes._subplots.AxesSubplot at 0x1f41d671e48>"
      ]
     },
     "execution_count": 36,
     "metadata": {},
     "output_type": "execute_result"
    },
    {
     "data": {
      "image/png": "[encoded data removed]",
      "text/plain": [
       "<Figure size 432x288 with 1 Axes>"
      ]
     },
     "metadata": {
      "needs_background": "light"
     },
     "output_type": "display_data"
    }
   ],
   "source": [
    "bc['Open'].plot()"
   ]
  },
  {
   "cell_type": "code",
   "execution_count": 37,
   "metadata": {},
   "outputs": [
    {
     "data": {
      "text/plain": [
       "<matplotlib.axes._subplots.AxesSubplot at 0x1f41d6fd4c8>"
      ]
     },
     "execution_count": 37,
     "metadata": {},
     "output_type": "execute_result"
    },
    {
     "data": {
      "image/png": "[encoded data removed]",
      "text/plain": [
       "<Figure size 432x288 with 1 Axes>"
      ]
     },
     "metadata": {
      "needs_background": "light"
     },
     "output_type": "display_data"
    }
   ],
   "source": [
    "bc['Close'].plot()"
   ]
  },
  {
   "cell_type": "code",
   "execution_count": 38,
   "metadata": {},
   "outputs": [
    {
     "data": {
      "text/plain": [
       "<matplotlib.axes._subplots.AxesSubplot at 0x1f41d7e6a48>"
      ]
     },
     "execution_count": 38,
     "metadata": {},
     "output_type": "execute_result"
    },
    {
     "data": {
      "image/png": "[encoded data removed]",
      "text/plain": [
       "<Figure size 432x288 with 1 Axes>"
      ]
     },
     "metadata": {
      "needs_background": "light"
     },
     "output_type": "display_data"
    }
   ],
   "source": [
    "bc['Weighted_Price'].plot()"
   ]
  },
  {
   "cell_type": "code",
   "execution_count": 39,
   "metadata": {},
   "outputs": [],
   "source": [
    "bc['Difference'] = bc['Close'] - bc['Open']"
   ]
  },
  {
   "cell_type": "code",
   "execution_count": 42,
   "metadata": {},
   "outputs": [
    {
     "data": {
      "text/plain": [
       "<matplotlib.axes._subplots.AxesSubplot at 0x1f41d8aab08>"
      ]
     },
     "execution_count": 42,
     "metadata": {},
     "output_type": "execute_result"
    },
    {
     "data": {
      "image/png": "[encoded data removed]",
      "text/plain": [
       "<Figure size 432x288 with 1 Axes>"
      ]
     },
     "metadata": {
      "needs_background": "light"
     },
     "output_type": "display_data"
    }
   ],
   "source": [
    "bc['Difference'].plot(kind='line')\n"
   ]
  },
  {
   "cell_type": "code",
   "execution_count": 21,
   "metadata": {},
   "outputs": [
    {
     "data": {
      "text/plain": [
       "<seaborn.axisgrid.JointGrid at 0x22e45306108>"
      ]
     },
     "execution_count": 21,
     "metadata": {},
     "output_type": "execute_result"
    },
    {
     "data": {
      "image/png": "[encoded data removed]",
      "text/plain": [
       "<Figure size 432x432 with 3 Axes>"
      ]
     },
     "metadata": {
      "needs_background": "light"
     },
     "output_type": "display_data"
    }
   ],
   "source": [
    "sns.jointplot(x='Volume_(BTC)',y='Volume_(Currency)',data=bc,kind='scatter')"
   ]
  },
  {
   "cell_type": "code",
   "execution_count": 22,
   "metadata": {},
   "outputs": [
    {
     "data": {
      "text/html": [
       "<div>\n",
       "<style scoped>\n",
       "    .dataframe tbody tr th:only-of-type {\n",
       "        vertical-align: middle;\n",
       "    }\n",
       "\n",
       "    .dataframe tbody tr th {\n",
       "        vertical-align: top;\n",
       "    }\n",
       "\n",
       "    .dataframe thead th {\n",
       "        text-align: right;\n",
       "    }\n",
       "</style>\n",
       "<table border=\"1\" class=\"dataframe\">\n",
       "  <thead>\n",
       "    <tr style=\"text-align: right;\">\n",
       "      <th></th>\n",
       "      <th>Timestamp</th>\n",
       "      <th>Open</th>\n",
       "      <th>High</th>\n",
       "      <th>Low</th>\n",
       "      <th>Close</th>\n",
       "      <th>Volume_(BTC)</th>\n",
       "      <th>Volume_(Currency)</th>\n",
       "      <th>Weighted_Price</th>\n",
       "      <th>Dates</th>\n",
       "    </tr>\n",
       "  </thead>\n",
       "  <tbody>\n",
       "    <tr>\n",
       "      <th>0</th>\n",
       "      <td>1417411980</td>\n",
       "      <td>300.00</td>\n",
       "      <td>300.00</td>\n",
       "      <td>300.00</td>\n",
       "      <td>300.00</td>\n",
       "      <td>0.010000</td>\n",
       "      <td>3.000000</td>\n",
       "      <td>300.000000</td>\n",
       "      <td>2014-12-01 05:33:00</td>\n",
       "    </tr>\n",
       "    <tr>\n",
       "      <th>7</th>\n",
       "      <td>1417412400</td>\n",
       "      <td>300.00</td>\n",
       "      <td>300.00</td>\n",
       "      <td>300.00</td>\n",
       "      <td>300.00</td>\n",
       "      <td>0.010000</td>\n",
       "      <td>3.000000</td>\n",
       "      <td>300.000000</td>\n",
       "      <td>2014-12-01 05:40:00</td>\n",
       "    </tr>\n",
       "    <tr>\n",
       "      <th>51</th>\n",
       "      <td>1417415040</td>\n",
       "      <td>370.00</td>\n",
       "      <td>370.00</td>\n",
       "      <td>370.00</td>\n",
       "      <td>370.00</td>\n",
       "      <td>0.010000</td>\n",
       "      <td>3.700000</td>\n",
       "      <td>370.000000</td>\n",
       "      <td>2014-12-01 06:24:00</td>\n",
       "    </tr>\n",
       "    <tr>\n",
       "      <th>77</th>\n",
       "      <td>1417416600</td>\n",
       "      <td>370.00</td>\n",
       "      <td>370.00</td>\n",
       "      <td>370.00</td>\n",
       "      <td>370.00</td>\n",
       "      <td>0.026556</td>\n",
       "      <td>9.825550</td>\n",
       "      <td>370.000000</td>\n",
       "      <td>2014-12-01 06:50:00</td>\n",
       "    </tr>\n",
       "    <tr>\n",
       "      <th>1436</th>\n",
       "      <td>1417498140</td>\n",
       "      <td>377.00</td>\n",
       "      <td>377.00</td>\n",
       "      <td>377.00</td>\n",
       "      <td>377.00</td>\n",
       "      <td>0.010000</td>\n",
       "      <td>3.770000</td>\n",
       "      <td>377.000000</td>\n",
       "      <td>2014-12-02 05:29:00</td>\n",
       "    </tr>\n",
       "    <tr>\n",
       "      <th>...</th>\n",
       "      <td>...</td>\n",
       "      <td>...</td>\n",
       "      <td>...</td>\n",
       "      <td>...</td>\n",
       "      <td>...</td>\n",
       "      <td>...</td>\n",
       "      <td>...</td>\n",
       "      <td>...</td>\n",
       "      <td>...</td>\n",
       "    </tr>\n",
       "    <tr>\n",
       "      <th>2099755</th>\n",
       "      <td>1546898520</td>\n",
       "      <td>4006.01</td>\n",
       "      <td>4006.57</td>\n",
       "      <td>4006.00</td>\n",
       "      <td>4006.01</td>\n",
       "      <td>3.382954</td>\n",
       "      <td>13553.433078</td>\n",
       "      <td>4006.390309</td>\n",
       "      <td>2019-01-07 22:02:00</td>\n",
       "    </tr>\n",
       "    <tr>\n",
       "      <th>2099756</th>\n",
       "      <td>1546898580</td>\n",
       "      <td>4006.01</td>\n",
       "      <td>4006.57</td>\n",
       "      <td>4006.00</td>\n",
       "      <td>4006.01</td>\n",
       "      <td>0.902164</td>\n",
       "      <td>3614.083169</td>\n",
       "      <td>4006.017233</td>\n",
       "      <td>2019-01-07 22:03:00</td>\n",
       "    </tr>\n",
       "    <tr>\n",
       "      <th>2099757</th>\n",
       "      <td>1546898640</td>\n",
       "      <td>4006.01</td>\n",
       "      <td>4006.01</td>\n",
       "      <td>4006.00</td>\n",
       "      <td>4006.01</td>\n",
       "      <td>1.192123</td>\n",
       "      <td>4775.647308</td>\n",
       "      <td>4006.003635</td>\n",
       "      <td>2019-01-07 22:04:00</td>\n",
       "    </tr>\n",
       "    <tr>\n",
       "      <th>2099758</th>\n",
       "      <td>1546898700</td>\n",
       "      <td>4006.01</td>\n",
       "      <td>4006.01</td>\n",
       "      <td>4005.50</td>\n",
       "      <td>4005.50</td>\n",
       "      <td>2.699700</td>\n",
       "      <td>10814.241898</td>\n",
       "      <td>4005.719991</td>\n",
       "      <td>2019-01-07 22:05:00</td>\n",
       "    </tr>\n",
       "    <tr>\n",
       "      <th>2099759</th>\n",
       "      <td>1546898760</td>\n",
       "      <td>4005.51</td>\n",
       "      <td>4006.01</td>\n",
       "      <td>4005.51</td>\n",
       "      <td>4005.99</td>\n",
       "      <td>1.752778</td>\n",
       "      <td>7021.183546</td>\n",
       "      <td>4005.745614</td>\n",
       "      <td>2019-01-07 22:06:00</td>\n",
       "    </tr>\n",
       "  </tbody>\n",
       "</table>\n",
       "<p>1990691 rows × 9 columns</p>\n",
       "</div>"
      ],
      "text/plain": [
       "          Timestamp     Open     High      Low    Close  Volume_(BTC)  \\\n",
       "0        1417411980   300.00   300.00   300.00   300.00      0.010000   \n",
       "7        1417412400   300.00   300.00   300.00   300.00      0.010000   \n",
       "51       1417415040   370.00   370.00   370.00   370.00      0.010000   \n",
       "77       1417416600   370.00   370.00   370.00   370.00      0.026556   \n",
       "1436     1417498140   377.00   377.00   377.00   377.00      0.010000   \n",
       "...             ...      ...      ...      ...      ...           ...   \n",
       "2099755  1546898520  4006.01  4006.57  4006.00  4006.01      3.382954   \n",
       "2099756  1546898580  4006.01  4006.57  4006.00  4006.01      0.902164   \n",
       "2099757  1546898640  4006.01  4006.01  4006.00  4006.01      1.192123   \n",
       "2099758  1546898700  4006.01  4006.01  4005.50  4005.50      2.699700   \n",
       "2099759  1546898760  4005.51  4006.01  4005.51  4005.99      1.752778   \n",
       "\n",
       "         Volume_(Currency)  Weighted_Price               Dates  \n",
       "0                 3.000000      300.000000 2014-12-01 05:33:00  \n",
       "7                 3.000000      300.000000 2014-12-01 05:40:00  \n",
       "51                3.700000      370.000000 2014-12-01 06:24:00  \n",
       "77                9.825550      370.000000 2014-12-01 06:50:00  \n",
       "1436              3.770000      377.000000 2014-12-02 05:29:00  \n",
       "...                    ...             ...                 ...  \n",
       "2099755       13553.433078     4006.390309 2019-01-07 22:02:00  \n",
       "2099756        3614.083169     4006.017233 2019-01-07 22:03:00  \n",
       "2099757        4775.647308     4006.003635 2019-01-07 22:04:00  \n",
       "2099758       10814.241898     4005.719991 2019-01-07 22:05:00  \n",
       "2099759        7021.183546     4005.745614 2019-01-07 22:06:00  \n",
       "\n",
       "[1990691 rows x 9 columns]"
      ]
     },
     "execution_count": 22,
     "metadata": {},
     "output_type": "execute_result"
    }
   ],
   "source": [
    "#Timestamp is converted to Human readable Dates\n",
    "bc['Dates'] = pd.to_datetime(bc['Timestamp'], unit='s')\n",
    "bc"
   ]
  },
  {
   "cell_type": "code",
   "execution_count": 23,
   "metadata": {},
   "outputs": [],
   "source": [
    "#detecting outliers Function\n",
    "\n",
    "def detect_outliers(data):\n",
    "    outlier=[]\n",
    "    threshold=3\n",
    "    mean=np.mean(data)\n",
    "    std=np.std(data)\n",
    "    for i in data:\n",
    "        z_score=(i-mean)/std\n",
    "        if np.abs(z_score)>threshold:\n",
    "            outlier.append(i)\n",
    "    return outlier"
   ]
  },
  {
   "cell_type": "code",
   "execution_count": 24,
   "metadata": {},
   "outputs": [
    {
     "data": {
      "text/plain": [
       "14643.99"
      ]
     },
     "execution_count": 24,
     "metadata": {},
     "output_type": "execute_result"
    }
   ],
   "source": [
    "x=detect_outliers(bc[\"Open\"])\n",
    "np.min(x)"
   ]
  },
  {
   "cell_type": "code",
   "execution_count": 25,
   "metadata": {},
   "outputs": [
    {
     "data": {
      "image/png": "[encoded data removed]",
      "text/plain": [
       "<Figure size 432x288 with 1 Axes>"
      ]
     },
     "metadata": {
      "needs_background": "light"
     },
     "output_type": "display_data"
    }
   ],
   "source": [
    "#plotting of x(Outliers)\n",
    "plt.boxplot(bc[\"Open\"],showmeans=True)\n",
    "plt.show()"
   ]
  },
  {
   "cell_type": "code",
   "execution_count": 26,
   "metadata": {},
   "outputs": [
    {
     "data": {
      "text/plain": [
       "14643.99"
      ]
     },
     "execution_count": 26,
     "metadata": {},
     "output_type": "execute_result"
    }
   ],
   "source": [
    "y=detect_outliers(bc[\"Close\"])\n",
    "np.min(y)"
   ]
  },
  {
   "cell_type": "code",
   "execution_count": 27,
   "metadata": {},
   "outputs": [
    {
     "data": {
      "image/png": "[encoded data removed]",
      "text/plain": [
       "<Figure size 432x288 with 1 Axes>"
      ]
     },
     "metadata": {
      "needs_background": "light"
     },
     "output_type": "display_data"
    }
   ],
   "source": [
    "plt.boxplot(bc[\"Close\"],showmeans=True)\n",
    "plt.show()"
   ]
  },
  {
   "cell_type": "markdown",
   "metadata": {},
   "source": [
    "# Linear Regression"
   ]
  },
  {
   "cell_type": "markdown",
   "metadata": {},
   "source": [
    "# Part1: predicting the closing price of the bitcoin "
   ]
  },
  {
   "cell_type": "code",
   "execution_count": 28,
   "metadata": {},
   "outputs": [],
   "source": [
    "#independent variables\n",
    "Training_feature= ['Open', 'High', 'Low', 'Volume_(BTC)', 'Volume_(Currency)', 'Weighted_Price']\n",
    "#dependent variables\n",
    "Testing_feature = 'Close'\n"
   ]
  },
  {
   "cell_type": "code",
   "execution_count": 29,
   "metadata": {},
   "outputs": [],
   "source": [
    "#splitting data into training and test set\n",
    "from sklearn.model_selection import train_test_split\n",
    "x_train, x_test, y_train, y_test = train_test_split(bc[Training_feature], bc[Testing_feature], test_size = 0.3)"
   ]
  },
  {
   "cell_type": "code",
   "execution_count": 30,
   "metadata": {},
   "outputs": [
    {
     "data": {
      "text/html": [
       "<div>\n",
       "<style scoped>\n",
       "    .dataframe tbody tr th:only-of-type {\n",
       "        vertical-align: middle;\n",
       "    }\n",
       "\n",
       "    .dataframe tbody tr th {\n",
       "        vertical-align: top;\n",
       "    }\n",
       "\n",
       "    .dataframe thead th {\n",
       "        text-align: right;\n",
       "    }\n",
       "</style>\n",
       "<table border=\"1\" class=\"dataframe\">\n",
       "  <thead>\n",
       "    <tr style=\"text-align: right;\">\n",
       "      <th></th>\n",
       "      <th>Open</th>\n",
       "      <th>High</th>\n",
       "      <th>Low</th>\n",
       "      <th>Volume_(BTC)</th>\n",
       "      <th>Volume_(Currency)</th>\n",
       "      <th>Weighted_Price</th>\n",
       "    </tr>\n",
       "  </thead>\n",
       "  <tbody>\n",
       "    <tr>\n",
       "      <th>2057416</th>\n",
       "      <td>3429.54</td>\n",
       "      <td>3429.54</td>\n",
       "      <td>3428.47</td>\n",
       "      <td>0.653358</td>\n",
       "      <td>2240.186569</td>\n",
       "      <td>3428.728276</td>\n",
       "    </tr>\n",
       "    <tr>\n",
       "      <th>1648633</th>\n",
       "      <td>10540.01</td>\n",
       "      <td>10547.00</td>\n",
       "      <td>10540.00</td>\n",
       "      <td>3.562425</td>\n",
       "      <td>37560.504834</td>\n",
       "      <td>10543.522370</td>\n",
       "    </tr>\n",
       "    <tr>\n",
       "      <th>401489</th>\n",
       "      <td>262.34</td>\n",
       "      <td>262.34</td>\n",
       "      <td>260.67</td>\n",
       "      <td>186.041500</td>\n",
       "      <td>48675.483932</td>\n",
       "      <td>261.637774</td>\n",
       "    </tr>\n",
       "    <tr>\n",
       "      <th>2092040</th>\n",
       "      <td>3823.40</td>\n",
       "      <td>3823.41</td>\n",
       "      <td>3823.40</td>\n",
       "      <td>7.323966</td>\n",
       "      <td>28002.483121</td>\n",
       "      <td>3823.404063</td>\n",
       "    </tr>\n",
       "    <tr>\n",
       "      <th>1758242</th>\n",
       "      <td>8475.00</td>\n",
       "      <td>8475.00</td>\n",
       "      <td>8455.00</td>\n",
       "      <td>26.780686</td>\n",
       "      <td>226757.925250</td>\n",
       "      <td>8467.218689</td>\n",
       "    </tr>\n",
       "  </tbody>\n",
       "</table>\n",
       "</div>"
      ],
      "text/plain": [
       "             Open      High       Low  Volume_(BTC)  Volume_(Currency)  \\\n",
       "2057416   3429.54   3429.54   3428.47      0.653358        2240.186569   \n",
       "1648633  10540.01  10547.00  10540.00      3.562425       37560.504834   \n",
       "401489     262.34    262.34    260.67    186.041500       48675.483932   \n",
       "2092040   3823.40   3823.41   3823.40      7.323966       28002.483121   \n",
       "1758242   8475.00   8475.00   8455.00     26.780686      226757.925250   \n",
       "\n",
       "         Weighted_Price  \n",
       "2057416     3428.728276  \n",
       "1648633    10543.522370  \n",
       "401489       261.637774  \n",
       "2092040     3823.404063  \n",
       "1758242     8467.218689  "
      ]
     },
     "execution_count": 30,
     "metadata": {},
     "output_type": "execute_result"
    }
   ],
   "source": [
    "x_test.head()"
   ]
  },
  {
   "cell_type": "code",
   "execution_count": 31,
   "metadata": {},
   "outputs": [],
   "source": [
    "#creating the regressor object\n",
    "from sklearn.linear_model import LinearRegression\n",
    "lm = LinearRegression()"
   ]
  },
  {
   "cell_type": "code",
   "execution_count": 32,
   "metadata": {},
   "outputs": [
    {
     "data": {
      "text/plain": [
       "LinearRegression(copy_X=True, fit_intercept=True, n_jobs=None, normalize=False)"
      ]
     },
     "execution_count": 32,
     "metadata": {},
     "output_type": "execute_result"
    }
   ],
   "source": [
    "#fitting the regressor\n",
    "lm.fit(x_train,y_train)"
   ]
  },
  {
   "cell_type": "code",
   "execution_count": 33,
   "metadata": {},
   "outputs": [
    {
     "data": {
      "text/plain": [
       "2057416     3428.47\n",
       "1648633    10546.97\n",
       "401489       260.67\n",
       "2092040     3823.40\n",
       "1758242     8455.00\n",
       "             ...   \n",
       "642981       414.86\n",
       "1843425     6227.00\n",
       "542471       396.07\n",
       "561366       383.45\n",
       "539889       407.10\n",
       "Name: Close, Length: 597208, dtype: float64"
      ]
     },
     "execution_count": 33,
     "metadata": {},
     "output_type": "execute_result"
    }
   ],
   "source": [
    "y_test"
   ]
  },
  {
   "cell_type": "code",
   "execution_count": 34,
   "metadata": {},
   "outputs": [
    {
     "data": {
      "text/plain": [
       "array([ 3428.65527745, 10545.71316842,   261.18927247, ...,\n",
       "         396.09000979,   383.45163251,   407.58693912])"
      ]
     },
     "execution_count": 34,
     "metadata": {},
     "output_type": "execute_result"
    }
   ],
   "source": [
    "#predicting the bitcoin close value\n",
    "pred=lm.predict(x_test)\n",
    "pred"
   ]
  },
  {
   "cell_type": "code",
   "execution_count": 35,
   "metadata": {},
   "outputs": [],
   "source": [
    "from sklearn.metrics import r2_score"
   ]
  },
  {
   "cell_type": "code",
   "execution_count": 36,
   "metadata": {},
   "outputs": [
    {
     "data": {
      "text/plain": [
       "0.9999991427414859"
      ]
     },
     "execution_count": 36,
     "metadata": {},
     "output_type": "execute_result"
    }
   ],
   "source": [
    "#checking the accuracy of the model\n",
    "r2_score(y_test,pred)"
   ]
  },
  {
   "cell_type": "markdown",
   "metadata": {},
   "source": [
    "# Part2: Predicting the Weighted price of the bitcoin"
   ]
  },
  {
   "cell_type": "code",
   "execution_count": 39,
   "metadata": {},
   "outputs": [],
   "source": [
    "#independent variables\n",
    "Training_feature= [ 'Close', 'Volume_(BTC)', 'Volume_(Currency)']\n",
    "#dependent variables\n",
    "Testing_feature = 'Weighted_Price'"
   ]
  },
  {
   "cell_type": "code",
   "execution_count": 44,
   "metadata": {},
   "outputs": [],
   "source": [
    "#splitting data into training and test set\n",
    "from sklearn.model_selection import train_test_split\n",
    "x_train, x_test, y_train, y_test = train_test_split(bc[Training_feature], bc[Testing_feature], test_size = 0.3)"
   ]
  },
  {
   "cell_type": "code",
   "execution_count": 45,
   "metadata": {},
   "outputs": [
    {
     "data": {
      "text/html": [
       "<div>\n",
       "<style scoped>\n",
       "    .dataframe tbody tr th:only-of-type {\n",
       "        vertical-align: middle;\n",
       "    }\n",
       "\n",
       "    .dataframe tbody tr th {\n",
       "        vertical-align: top;\n",
       "    }\n",
       "\n",
       "    .dataframe thead th {\n",
       "        text-align: right;\n",
       "    }\n",
       "</style>\n",
       "<table border=\"1\" class=\"dataframe\">\n",
       "  <thead>\n",
       "    <tr style=\"text-align: right;\">\n",
       "      <th></th>\n",
       "      <th>Close</th>\n",
       "      <th>Volume_(BTC)</th>\n",
       "      <th>Volume_(Currency)</th>\n",
       "    </tr>\n",
       "  </thead>\n",
       "  <tbody>\n",
       "    <tr>\n",
       "      <th>647439</th>\n",
       "      <td>419.54</td>\n",
       "      <td>1.066700</td>\n",
       "      <td>447.593318</td>\n",
       "    </tr>\n",
       "    <tr>\n",
       "      <th>316045</th>\n",
       "      <td>255.61</td>\n",
       "      <td>3.687831</td>\n",
       "      <td>943.175729</td>\n",
       "    </tr>\n",
       "    <tr>\n",
       "      <th>1235433</th>\n",
       "      <td>1832.00</td>\n",
       "      <td>10.276848</td>\n",
       "      <td>18827.185023</td>\n",
       "    </tr>\n",
       "    <tr>\n",
       "      <th>1193178</th>\n",
       "      <td>1198.69</td>\n",
       "      <td>4.761471</td>\n",
       "      <td>5707.527194</td>\n",
       "    </tr>\n",
       "    <tr>\n",
       "      <th>2015730</th>\n",
       "      <td>6368.01</td>\n",
       "      <td>0.265597</td>\n",
       "      <td>1691.321807</td>\n",
       "    </tr>\n",
       "  </tbody>\n",
       "</table>\n",
       "</div>"
      ],
      "text/plain": [
       "           Close  Volume_(BTC)  Volume_(Currency)\n",
       "647439    419.54      1.066700         447.593318\n",
       "316045    255.61      3.687831         943.175729\n",
       "1235433  1832.00     10.276848       18827.185023\n",
       "1193178  1198.69      4.761471        5707.527194\n",
       "2015730  6368.01      0.265597        1691.321807"
      ]
     },
     "execution_count": 45,
     "metadata": {},
     "output_type": "execute_result"
    }
   ],
   "source": [
    "x_test.head()"
   ]
  },
  {
   "cell_type": "code",
   "execution_count": 46,
   "metadata": {},
   "outputs": [],
   "source": [
    "#creating the regressor object\n",
    "from sklearn.linear_model import LinearRegression\n",
    "lm = LinearRegression()"
   ]
  },
  {
   "cell_type": "code",
   "execution_count": 47,
   "metadata": {},
   "outputs": [
    {
     "data": {
      "text/plain": [
       "LinearRegression(copy_X=True, fit_intercept=True, n_jobs=None, normalize=False)"
      ]
     },
     "execution_count": 47,
     "metadata": {},
     "output_type": "execute_result"
    }
   ],
   "source": [
    "#fitting the regressorx\n",
    "lm.fit(x_train,y_train)"
   ]
  },
  {
   "cell_type": "code",
   "execution_count": 48,
   "metadata": {},
   "outputs": [
    {
     "data": {
      "text/plain": [
       "647439       419.605623\n",
       "316045       255.753512\n",
       "1235433     1832.000000\n",
       "1193178     1198.690000\n",
       "2015730     6368.011208\n",
       "               ...     \n",
       "2041956     4202.189072\n",
       "1881357     6358.436304\n",
       "1132927     1222.204678\n",
       "1607254    10087.887549\n",
       "2016143     6360.027445\n",
       "Name: Weighted_Price, Length: 597208, dtype: float64"
      ]
     },
     "execution_count": 48,
     "metadata": {},
     "output_type": "execute_result"
    }
   ],
   "source": [
    "  y_test"
   ]
  },
  {
   "cell_type": "code",
   "execution_count": 49,
   "metadata": {},
   "outputs": [
    {
     "data": {
      "text/plain": [
       "array([  419.52358847,   255.59591161,  1831.96511905, ...,\n",
       "        1222.3175703 , 10087.65107629,  6359.96715251])"
      ]
     },
     "execution_count": 49,
     "metadata": {},
     "output_type": "execute_result"
    }
   ],
   "source": [
    "#predicting the bitcoin close value\n",
    "pred=lm.predict(x_test)\n",
    "pred"
   ]
  },
  {
   "cell_type": "code",
   "execution_count": 50,
   "metadata": {},
   "outputs": [],
   "source": [
    "from sklearn.metrics import r2_score"
   ]
  },
  {
   "cell_type": "code",
   "execution_count": 51,
   "metadata": {},
   "outputs": [
    {
     "data": {
      "text/plain": [
       "0.9999982629141614"
      ]
     },
     "execution_count": 51,
     "metadata": {},
     "output_type": "execute_result"
    }
   ],
   "source": [
    "#checking the accuracy of the model\n",
    "r2_score(y_test,pred)"
   ]
  }
 ],
 "metadata": {
  "kernelspec": {
   "display_name": "Python 3",
   "language": "python",
   "name": "python3"
  },
  "language_info": {
   "codemirror_mode": {
    "name": "ipython",
    "version": 3
   },
   "file_extension": ".py",
   "mimetype": "text/x-python",
   "name": "python",
   "nbconvert_exporter": "python",
   "pygments_lexer": "ipython3",
   "version": "3.7.4"
  }
 },
 "nbformat": 4,
 "nbformat_minor": 2
}
